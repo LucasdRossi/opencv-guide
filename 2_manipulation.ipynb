{
 "nbformat": 4,
 "nbformat_minor": 2,
 "metadata": {
  "language_info": {
   "name": "python",
   "codemirror_mode": {
    "name": "ipython",
    "version": 3
   },
   "version": "3.6.9"
  },
  "orig_nbformat": 2,
  "file_extension": ".py",
  "mimetype": "text/x-python",
  "name": "python",
  "npconvert_exporter": "python",
  "pygments_lexer": "ipython3",
  "version": 3
 },
 "cells": [
  {
   "cell_type": "markdown",
   "metadata": {},
   "outputs": [],
   "source": [
    "# image manipulation"
   ]
  },
  {
   "cell_type": "code",
   "execution_count": 1,
   "metadata": {},
   "outputs": [],
   "source": [
    "import cv2\n",
    "import numpy as np\n",
    "\n",
    "image = cv2.imread('images/bird.jpg')"
   ]
  },
  {
   "cell_type": "markdown",
   "metadata": {},
   "outputs": [],
   "source": [
    "## re-sizing\n",
    "\n",
    "### interpolations\n",
    "- `cv2.INTER_NEAREST` fastes\n",
    "- `cv2.INTER_LINEAR` good for zooming\n",
    "- `cv2.INTER_CUBIC` better\n",
    "- `cv2.INTER_LANCZOS4` best"
   ]
  },
  {
   "cell_type": "code",
   "metadata": {},
   "outputs": [],
   "source": [
    "result = cv2.resize(image, None, fx=0.5, fy=0.5, interpolation=cv2.INTER_NEAREST) # passing scale\n",
    "result = cv2.resize(image, (1000, 1000), interpolation=cv2.INTER_LANCZOS4) # passing output size\n",
    "# cv2.resize(image, output size, x scale, y scale, interpolation)"
   ]
  },
  {
   "cell_type": "markdown",
   "metadata": {},
   "outputs": [],
   "source": [
    "## cropping"
   ]
  },
  {
   "cell_type": "code",
   "metadata": {},
   "outputs": [],
   "source": [
    "height, width = image.shape[:2]\n",
    "start_row, start_col = int(height * .05), int(width * .25)\n",
    "end_row, end_col = int(height * .5), int(width * .75)\n",
    "\n",
    "result = image[start_row:end_row, start_col:end_col]\n",
    "# row = height, column = width"
   ]
  },
  {
   "cell_type": "markdown",
   "metadata": {},
   "outputs": [],
   "source": [
    "## bitwise"
   ]
  },
  {
   "cell_type": "code",
   "metadata": {},
   "outputs": [],
   "source": [
    "square = np.zeros((300, 300), np.uint8)\n",
    "cv2.rectangle(square, (50, 50), (250, 250), 255, -1)\n",
    "\n",
    "ellipse = np.zeros((300, 300), np.uint8)\n",
    "cv2.ellipse(ellipse, (150, 150), (150, 150), 30, 0, 180, 255, -1)"
   ]
  },
  {
   "cell_type": "code",
   "metadata": {},
   "outputs": [],
   "source": [
    "result = cv2.bitwise_and(square, ellipse)"
   ]
  },
  {
   "cell_type": "code",
   "metadata": {},
   "outputs": [],
   "source": [
    "result = cv2.bitwise_or(square, ellipse)"
   ]
  },
  {
   "cell_type": "code",
   "metadata": {},
   "outputs": [],
   "source": [
    "result = cv2.bitwise_xor(square, ellipse)"
   ]
  },
  {
   "cell_type": "code",
   "metadata": {},
   "outputs": [],
   "source": [
    "result = cv2.bitwise_not(square)"
   ]
  },
  {
   "cell_type": "markdown",
   "metadata": {},
   "outputs": [],
   "source": [
    "## blurring"
   ]
  },
  {
   "cell_type": "code",
   "metadata": {},
   "outputs": [],
   "source": [
    "result = cv2.blur(image.copy(), (7, 7))"
   ]
  },
  {
   "cell_type": "code",
   "metadata": {},
   "outputs": [],
   "source": [
    "result = cv2.GaussianBlur(image.copy(), (7, 7), 0)"
   ]
  },
  {
   "cell_type": "code",
   "metadata": {},
   "outputs": [],
   "source": [
    "result = cv2.medianBlur(image.copy(), 7) # use median across all pixels in the kernel"
   ]
  },
  {
   "cell_type": "code",
   "metadata": {},
   "outputs": [],
   "source": [
    "result = cv2.bilateralFilter(image.copy(), 7, 100, 100) # rounded edges (slower)"
   ]
  },
  {
   "cell_type": "code",
   "metadata": {},
   "outputs": [],
   "source": [
    "result = cv2.fastNlMeansDenoisingColored(image, None, 6, 6, 7, 21) # de-noising"
   ]
  },
  {
   "cell_type": "code",
   "metadata": {},
   "outputs": [],
   "source": [
    "# sharpening\n",
    "kernel = np.array([[-1, -1, -1], [-1, 9, -1], [-1, -1, -1]])\n",
    "result = cv2.filter2D(image.copy(), -1, kernel)"
   ]
  },
  {
   "cell_type": "markdown",
   "metadata": {},
   "outputs": [],
   "source": [
    "## thresholding\n",
    "\n",
    "### types\n",
    "- `cv2.THRESH_BINARY` pixel < 127 = 0 and pixel > 127 = 255\n",
    "- `cv2.THRESH_BINARY_INV` pixel < 127 = 255 and pixel > 127 = 0\n",
    "- `cv2.THRESH_TRUNC` pixel > 127 = 127\n",
    "- `cv2.THRESH_TOZERO` pixel < 127 = 0\n",
    "- `cv2.THRESH_TOZERO_INV` pixel > 127 = 0"
   ]
  },
  {
   "cell_type": "code",
   "metadata": {},
   "outputs": [],
   "source": [
    "image = cv2.cvtColor(image, cv2.COLOR_BGR2GRAY) # image needs to be converted to greyscale"
   ]
  },
  {
   "cell_type": "code",
   "metadata": {},
   "outputs": [],
   "source": [
    "_, result = cv2.threshold(image.copy(), 127, 255, cv2.THRESH_BINARY) # most used\n",
    "# cv2.threshold(image, threshold value, max value, threshold type)"
   ]
  },
  {
   "cell_type": "markdown",
   "metadata": {},
   "outputs": [],
   "source": [
    "### adaptive types\n",
    "- `cv2.ADAPTIVE_THRESH_MEAN_C`\n",
    "- `cv2.ADAPTIVE_THRESH_GAUSSIAN_C`\n",
    "- `cv2.THRESH_OTSU` uses **cv2.threshold** function"
   ]
  },
  {
   "cell_type": "code",
   "metadata": {},
   "outputs": [],
   "source": [
    "image = cv2.GaussianBlur(image, (3, 3), 0) # removing noises"
   ]
  },
  {
   "cell_type": "code",
   "metadata": {},
   "outputs": [],
   "source": [
    "result = cv2.adaptiveThreshold(image.copy(), 255, cv2.ADAPTIVE_THRESH_MEAN_C, cv2.THRESH_BINARY, 3, 5)\n",
    "# cv2.adaptiveThreshold(image, max value, adaptive type, threshold type, block size, constant)"
   ]
  },
  {
   "cell_type": "code",
   "metadata": {},
   "outputs": [],
   "source": [
    "_, result = cv2.threshold(image.copy(), 0, 255, cv2.THRESH_BINARY + cv2.THRESH_OTSU)"
   ]
  },
  {
   "cell_type": "markdown",
   "metadata": {},
   "outputs": [],
   "source": [
    "## dilation and erosion\n",
    "\n",
    "- `dilation` adds pixels to the boundaries of objects in an image\n",
    "- `erosion` remove pixels at the boundaries of objects in an image\n",
    "- `opening` erosion followed by dilation\n",
    "- `closing` dilation followed by erosion"
   ]
  },
  {
   "cell_type": "code",
   "metadata": {},
   "outputs": [],
   "source": [
    "kernel = np.ones((5, 5), np.uint8) # this methods needs a kernel"
   ]
  },
  {
   "cell_type": "code",
   "metadata": {},
   "outputs": [],
   "source": [
    "result = cv2.erode(image.copy(), kernel, iterations=1)"
   ]
  },
  {
   "cell_type": "code",
   "metadata": {},
   "outputs": [],
   "source": [
    "result = cv2.dilate(image.copy(), kernel, iterations=1)"
   ]
  },
  {
   "cell_type": "code",
   "metadata": {},
   "outputs": [],
   "source": [
    "result = cv2.morphologyEx(image, cv2.MORPH_OPEN, kernel) # good for removing noises"
   ]
  },
  {
   "cell_type": "code",
   "metadata": {},
   "outputs": [],
   "source": [
    "result = cv2.morphologyEx(image, cv2.MORPH_CLOSE, kernel) # good for removing noises"
   ]
  },
  {
   "cell_type": "markdown",
   "metadata": {},
   "outputs": [],
   "source": [
    "## edge detection"
   ]
  },
  {
   "cell_type": "code",
   "execution_count": 4,
   "metadata": {},
   "outputs": [],
   "source": [
    "result = cv2.Canny(image, 20, 170)\n",
    "# cv2.Canny(image, threshold1, threshold2)"
   ]
  },
  {
   "cell_type": "code",
   "execution_count": null,
   "metadata": {},
   "outputs": [],
   "source": [
    "## visualization"
   ]
  },
  {
   "cell_type": "code",
   "execution_count": 5,
   "metadata": {},
   "outputs": [],
   "source": [
    "cv2.imshow('image', result)\n",
    "cv2.waitKey(0)\n",
    "cv2.destroyAllWindows()"
   ]
  }
 ]
}
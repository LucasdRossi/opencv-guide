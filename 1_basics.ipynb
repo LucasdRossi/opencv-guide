{
 "nbformat": 4,
 "nbformat_minor": 2,
 "metadata": {
  "language_info": {
   "name": "python",
   "codemirror_mode": {
    "name": "ipython",
    "version": 3
   },
   "version": "3.6.9"
  },
  "orig_nbformat": 2,
  "file_extension": ".py",
  "mimetype": "text/x-python",
  "name": "python",
  "npconvert_exporter": "python",
  "pygments_lexer": "ipython3",
  "version": 3
 },
 "cells": [
  {
   "cell_type": "markdown",
   "metadata": {},
   "outputs": [],
   "source": [
    "# basic operators"
   ]
  },
  {
   "cell_type": "code",
   "metadata": {},
   "outputs": [],
   "source": [
    "import cv2\n",
    "import numpy as np"
   ]
  },
  {
   "cell_type": "markdown",
   "metadata": {},
   "outputs": [],
   "source": [
    "## reading and converting a image"
   ]
  },
  {
   "cell_type": "code",
   "metadata": {},
   "outputs": [],
   "source": [
    "image = cv2.imread('images/bird.jpg')\n",
    "# converting a image to gray scale\n",
    "# image = cv2.cvtColor(image, cv2.COLOR_BGR2GRAY)"
   ]
  },
  {
   "cell_type": "code",
   "metadata": {},
   "outputs": [],
   "source": [
    "# reading a image and passing it to gray scale\n",
    "image = cv2.imread('images/bird.jpg', 0)"
   ]
  },
  {
   "cell_type": "markdown",
   "metadata": {},
   "outputs": [],
   "source": [
    "## lines, squares, circles, polygons and text"
   ]
  },
  {
   "cell_type": "code",
   "metadata": {},
   "outputs": [],
   "source": [
    "# black image\n",
    "image = np.zeros((512, 512, 3), np.uint8)"
   ]
  },
  {
   "cell_type": "code",
   "metadata": {},
   "outputs": [],
   "source": [
    "# white image\n",
    "image = np.zeros((512, 512, 3), np.uint8)\n",
    "image[:, :] = (255, 255, 255)"
   ]
  },
  {
   "cell_type": "code",
   "metadata": {},
   "outputs": [],
   "source": [
    "# line\n",
    "result = cv2.line(image.copy(), (0, 0), (512, 512), (0, 255, 0), 1)\n",
    "# cv2.line(image, start, end, color, thickness)"
   ]
  },
  {
   "cell_type": "code",
   "metadata": {},
   "outputs": [],
   "source": [
    "# rectangle\n",
    "result = cv2.rectangle(image.copy(), (100, 100), (300, 300), (0, 0, 255), 1)\n",
    "# cv2.rectangle(image, start, end, color, thickness)"
   ]
  },
  {
   "cell_type": "code",
   "metadata": {},
   "outputs": [],
   "source": [
    "# circle\n",
    "result = cv2.circle(image.copy(), (350, 350), 250, (255, 0, 0), -1)\n",
    "# cv2.circle(image, center, radius, color, thickness)"
   ]
  },
  {
   "cell_type": "code",
   "metadata": {},
   "outputs": [],
   "source": [
    "# polygons\n",
    "points = [(80, 120), (250, 90), (333, 370)]\n",
    "points2 = [(50, 200), (9, 100), (56, 300)]\n",
    "\n",
    "result = cv2.polylines(image.copy(), [np.asarray(points, dtype=np.int32)], False, (0, 0, 255), 1)\n",
    "# cv2.polylines(image, points, closed, color, thickness)\n",
    "\n",
    "cv2.fillPoly(result, [np.asarray(points2, dtype=np.int32)], (0, 255, 255))\n",
    "# cv2.fillPoly(image, points, color)"
   ]
  },
  {
   "cell_type": "code",
   "metadata": {},
   "outputs": [],
   "source": [
    "# text\n",
    "result = cv2.putText(image.copy(), ':D', (300, 250), cv2.FONT_HERSHEY_SIMPLEX, 3, (255, 0, 255), 2)\n",
    "# cv2.putText(image, text, bottom left points, font, font size, color, thickness)"
   ]
  },
  {
   "cell_type": "markdown",
   "metadata": {},
   "outputs": [],
   "source": [
    "## showing and saving images"
   ]
  },
  {
   "cell_type": "code",
   "metadata": {},
   "outputs": [],
   "source": [
    "print(result.shape)\n",
    "# height, width, axis\n",
    "cv2.imshow('image', result)\n",
    "cv2.waitKey(0)\n",
    "cv2.destroyAllWindows()\n",
    "# cv2.imwrite('images/out.png', image)"
   ]
  },
  {
   "cell_type": "markdown",
   "metadata": {},
   "outputs": [],
   "source": [
    "- OpenCV uses `BGR` color system "
   ]
  }
 ]
}
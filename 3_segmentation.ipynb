{
 "nbformat": 4,
 "nbformat_minor": 2,
 "metadata": {
  "language_info": {
   "name": "python",
   "codemirror_mode": {
    "name": "ipython",
    "version": 3
   },
   "version": "3.6.9"
  },
  "orig_nbformat": 2,
  "file_extension": ".py",
  "mimetype": "text/x-python",
  "name": "python",
  "npconvert_exporter": "python",
  "pygments_lexer": "ipython3",
  "version": 3
 },
 "cells": [
  {
   "cell_type": "markdown",
   "metadata": {},
   "outputs": [],
   "source": [
    "# segmentation and contours"
   ]
  },
  {
   "cell_type": "code",
   "metadata": {},
   "outputs": [],
   "source": [
    "import numpy as np\n",
    "import cv2\n",
    "\n",
    "shapes = cv2.imread('images/geometricShapes.png')"
   ]
  },
  {
   "cell_type": "code",
   "metadata": {},
   "outputs": [],
   "source": [
    "result = cv2.cvtColor(shapes, cv2.COLOR_BGR2GRAY) # required\n",
    "result = cv2.Canny(result, 30, 200) # removing noises\n",
    "\n",
    "contours, _ = cv2.findContours(result.copy(), cv2.RETR_EXTERNAL, cv2.CHAIN_APPROX_NONE)\n",
    "print(len(contours))"
   ]
  },
  {
   "cell_type": "markdown",
   "metadata": {},
   "outputs": [],
   "source": [
    "## sorting"
   ]
  },
  {
   "cell_type": "code",
   "metadata": {},
   "outputs": [],
   "source": [
    "# by area\n",
    "contours = sorted(contours, key=cv2.contourArea, reverse=True)\n",
    "# reverse=True - bigger to smaller"
   ]
  },
  {
   "cell_type": "markdown",
   "metadata": {},
   "outputs": [],
   "source": [
    "## cutting"
   ]
  },
  {
   "cell_type": "code",
   "execution_count": 3,
   "metadata": {},
   "outputs": [],
   "source": [
    "for contour in contours:\n",
    "    x, y, w, h = cv2.boundingRect(contour)\n",
    "    result = shapes[y:y + h, x:x + w]\n",
    "    cv2.imshow('image', result)\n",
    "    cv2.waitKey(0)\n",
    "cv2.destroyAllWindows()"
   ]
  },
  {
   "cell_type": "markdown",
   "metadata": {},
   "outputs": [],
   "source": [
    "## approximating"
   ]
  },
  {
   "cell_type": "code",
   "metadata": {},
   "outputs": [],
   "source": [
    "approximated_contours = []\n",
    "for contour in contours:\n",
    "    accuracy = 0.03 * cv2.arcLength(contour, True) # lower accuracy = precise approximating\n",
    "    approx = cv2.approxPolyDP(contour, accuracy, True) # True = closed\n",
    "    approximated_contours.append(approx)\n",
    "\n",
    "contours = np.asarray(approximated_contours)"
   ]
  },
  {
   "cell_type": "markdown",
   "metadata": {},
   "outputs": [],
   "source": [
    "## convex hull"
   ]
  },
  {
   "cell_type": "code",
   "metadata": {},
   "outputs": [],
   "source": [
    "# tries to find the smallest polygon that can covers the contour\n",
    "hull_contours = []\n",
    "for contour in contours:\n",
    "    hull = cv2.convexHull(contour)\n",
    "    hull_contours.append(hull)\n",
    "\n",
    "contours = np.asarray(hull_contours)"
   ]
  },
  {
   "cell_type": "markdown",
   "metadata": {},
   "outputs": [],
   "source": [
    "## visualization"
   ]
  },
  {
   "cell_type": "code",
   "metadata": {},
   "outputs": [],
   "source": [
    "for contour in contours:\n",
    "    result = cv2.drawContours(shapes.copy(), [contour], -1, (0, 255, 0), 3)\n",
    "    cv2.imshow('image', result)\n",
    "    cv2.waitKey(0)\n",
    "\n",
    "result = cv2.drawContours(shapes.copy(), contours, -1, (0, 255, 0), 3)\n",
    "# cv2.drawContours(image, contours, number of contours, color, 3)\n",
    "# -1 for all \n",
    "cv2.imshow('image', result)\n",
    "cv2.waitKey(0)\n",
    "cv2.destroyAllWindows()"
   ]
  }
 ]
}
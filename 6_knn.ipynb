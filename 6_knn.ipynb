{
 "nbformat": 4,
 "nbformat_minor": 2,
 "metadata": {
  "language_info": {
   "name": "python",
   "codemirror_mode": {
    "name": "ipython",
    "version": 3
   },
   "version": "3.6.9"
  },
  "orig_nbformat": 2,
  "file_extension": ".py",
  "mimetype": "text/x-python",
  "name": "python",
  "npconvert_exporter": "python",
  "pygments_lexer": "ipython3",
  "version": 3
 },
 "cells": [
  {
   "cell_type": "markdown",
   "metadata": {},
   "outputs": [],
   "source": [
    "# k-nearest neighbour"
   ]
  },
  {
   "cell_type": "code",
   "metadata": {},
   "outputs": [],
   "source": [
    "import numpy as np\n",
    "import cv2"
   ]
  },
  {
   "cell_type": "markdown",
   "metadata": {},
   "outputs": [],
   "source": [
    "## training the model"
   ]
  },
  {
   "cell_type": "markdown",
   "metadata": {},
   "outputs": [],
   "source": [
    "### preparing the dataset"
   ]
  },
  {
   "cell_type": "code",
   "metadata": {},
   "outputs": [],
   "source": [
    "dataset = cv2.imread('images/digits_dataset.png')\n",
    "gray = cv2.cvtColor(dataset, cv2.COLOR_BGR2GRAY)\n",
    "small = cv2.pyrDown(dataset)\n",
    "\n",
    "print('image shape -', gray.shape)\n",
    "# cv2.imshow('image', dataset)\n",
    "# cv2.waitKey(0)\n",
    "\n",
    "cells = []\n",
    "for row in np.vsplit(gray, 50):\n",
    "    row_shape = row.shape\n",
    "    row_example = row\n",
    "    cells.append(np.hsplit(row, 100))\n",
    "\n",
    "\n",
    "print('row shape -', row_shape)\n",
    "# cv2.imshow('image', row_example)\n",
    "# cv2.waitKey(0)\n",
    "\n",
    "cells = np.array(cells)\n",
    "\n",
    "cell_example = cells[-1][0]\n",
    "\n",
    "print('cell shape -', cell_example.shape)\n",
    "# cv2.imshow('image', cell_example)\n",
    "# cv2.waitKey(0)\n",
    "# cv2.destroyAllWindows()\n",
    "\n",
    "print('cells array shape -', cells.shape)"
   ]
  },
  {
   "cell_type": "code",
   "metadata": {},
   "outputs": [],
   "source": [
    "# 70% for tain and 30% for test\n",
    "train = cells[:, :70].reshape(-1, 400).astype(np.float32)\n",
    "test = cells[:,70:100].reshape(-1, 400).astype(np.float32)\n",
    "\n",
    "print('train shape -', train.shape)\n",
    "print('test shape -', test.shape)"
   ]
  },
  {
   "cell_type": "markdown",
   "metadata": {},
   "outputs": [],
   "source": [
    "### labeling"
   ]
  },
  {
   "cell_type": "code",
   "metadata": {},
   "outputs": [],
   "source": [
    "digits = [0, 1, 2, 3, 4, 5, 6, 7, 8, 9]\n",
    "train_labels = np.repeat(digits, 350)[:, np.newaxis]\n",
    "test_labels = np.repeat(digits, 150)[:, np.newaxis]\n",
    "\n",
    "print('train labels shape -', train_labels.shape)\n",
    "print('test labels shape -', test_labels.shape)"
   ]
  },
  {
   "cell_type": "markdown",
   "metadata": {},
   "outputs": [],
   "source": [
    "### training and evaluating"
   ]
  },
  {
   "cell_type": "code",
   "metadata": {},
   "outputs": [],
   "source": [
    "knn = cv2.ml.KNearest_create()\n",
    "knn.train(train, cv2.ml.ROW_SAMPLE, train_labels)\n",
    "ret, results, neighbours, dist = knn.findNearest(test, 3)\n",
    "\n",
    "correct = 0\n",
    "for i, result in enumerate(results):\n",
    "    if result == test_labels[i]:\n",
    "        correct += 1\n",
    "\n",
    "accuracy = correct * (100.0 / results.size)\n",
    "print(\"accuracy: %.2f\" % accuracy + \"%\")"
   ]
  },
  {
   "cell_type": "markdown",
   "metadata": {},
   "outputs": [],
   "source": [
    "## using the model"
   ]
  },
  {
   "cell_type": "markdown",
   "metadata": {},
   "outputs": [],
   "source": [
    "### preparing the image"
   ]
  },
  {
   "cell_type": "code",
   "metadata": {},
   "outputs": [],
   "source": [
    "image = cv2.imread('images/digits.png')\n",
    "\n",
    "gray = cv2.cvtColor(image, cv2.COLOR_BGR2GRAY)\n",
    "blurred = cv2.GaussianBlur(gray, (5, 5), 0)\n",
    "canny = cv2.Canny(blurred, 30, 150)\n",
    "# cv2.imshow('image', blurred)\n",
    "# cv2.waitKey(0)\n",
    "\n",
    "contours, _ = cv2.findContours(canny.copy(), cv2.RETR_EXTERNAL, cv2.CHAIN_APPROX_SIMPLE)\n",
    "\n",
    "# https://answers.opencv.org/question/179510/how-can-i-sort-the-contours-from-left-to-right-and-top-to-bottom/\n",
    "contours = sorted(contours, key=lambda ctr: cv2.boundingRect(ctr)[1])\n",
    "\n",
    "new_contours = []\n",
    "for contour in contours:\n",
    "    area = cv2.contourArea(contour)\n",
    "    if area > 20:\n",
    "        new_contours.append(contour)\n",
    "\n",
    "contours = np.array(new_contours)\n",
    "\n",
    "outlined = cv2.drawContours(image.copy(), contours, -1, (0, 255, 0), 1)\n",
    "# cv2.imshow('image', outlined)\n",
    "# cv2.waitKey(0)\n",
    "\n",
    "# cv2.destroyAllWindows()"
   ]
  },
  {
   "cell_type": "code",
   "metadata": {},
   "outputs": [],
   "source": [
    "numbers = []\n",
    "for contour in contours:\n",
    "    x, y, w, h = cv2.boundingRect(contour)\n",
    "    roi = blurred[y-5:y + h+5, x-5:x + w+5]\n",
    "\n",
    "    _, roi = cv2.threshold(roi, 127, 255, cv2.THRESH_BINARY_INV)\n",
    "\n",
    "    # transforming the roi into a square\n",
    "    # https://stackoverflow.com/questions/45646201/how-do-i-make-rectangular-image-squared-using-opencv-and-python\n",
    "    height, width = roi.shape\n",
    "    x = height if height > width else width\n",
    "    y = height if height > width else width\n",
    "    square= np.zeros((x, y), np.uint8)\n",
    "    square[int((y-height)/2):int(y-(y-height)/2), int((x-width)/2):int(x-(x-width)/2)] = roi\n",
    "\n",
    "    # cv2.imshow('square', square)\n",
    "    # cv2.imshow('roi', roi)\n",
    "    # cv2.waitKey(0)\n",
    "\n",
    "    # turning the image into the input form for the model\n",
    "    square = cv2.resize(square, (20, 20), interpolation=cv2.INTER_LANCZOS4)\n",
    "    _, square = cv2.threshold(square, 20, 255, cv2.THRESH_BINARY)\n",
    "\n",
    "    # cv2.imshow('square', square)\n",
    "    # cv2.waitKey(0)\n",
    "\n",
    "    number = square.reshape((1, 400)).astype(np.float32)\n",
    "    numbers.append(number)\n",
    "# cv2.destroyAllWindows()"
   ]
  },
  {
   "cell_type": "markdown",
   "metadata": {},
   "outputs": [],
   "source": [
    "### getting the results"
   ]
  },
  {
   "cell_type": "code",
   "metadata": {},
   "outputs": [],
   "source": [
    "result = []\n",
    "for number in numbers:\n",
    "    ret, results, neighbours, dist = knn.findNearest(number, 2)\n",
    "    result.append(int(results))"
   ]
  },
  {
   "cell_type": "markdown",
   "metadata": {},
   "outputs": [],
   "source": [
    "### plotting the results"
   ]
  },
  {
   "cell_type": "code",
   "metadata": {},
   "outputs": [],
   "source": [
    "numbers = image.copy()\n",
    "final_number = \"\"\n",
    "for i, contour in enumerate(contours):\n",
    "    number = str(result[i])\n",
    "    final_number += number\n",
    "    x, y, w, h = cv2.boundingRect(contour)\n",
    "    cv2.putText(numbers, number, (x, y-20), cv2.FONT_HERSHEY_SIMPLEX, 1, (0, 255, 255), 2)\n",
    "    \n",
    "\n",
    "cv2.imshow('image', numbers)\n",
    "cv2.waitKey(0)\n",
    "cv2.destroyAllWindows()\n",
    "print('number:',final_number)"
   ]
  }
 ]
}
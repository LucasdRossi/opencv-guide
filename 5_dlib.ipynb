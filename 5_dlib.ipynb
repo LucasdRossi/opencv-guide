{
 "nbformat": 4,
 "nbformat_minor": 2,
 "metadata": {
  "language_info": {
   "name": "python",
   "codemirror_mode": {
    "name": "ipython",
    "version": 3
   },
   "version": "3.6.9"
  },
  "orig_nbformat": 2,
  "file_extension": ".py",
  "mimetype": "text/x-python",
  "name": "python",
  "npconvert_exporter": "python",
  "pygments_lexer": "ipython3",
  "version": 3
 },
 "cells": [
  {
   "cell_type": "markdown",
   "metadata": {},
   "outputs": [],
   "source": [
    "# dlib\n",
    "\n",
    "- download the face landmarks [model](http://dlib.net/files/shape_predictor_68_face_landmarks.dat.bz2)\n",
    "- put it in the files folder"
   ]
  },
  {
   "cell_type": "markdown",
   "metadata": {},
   "outputs": [],
   "source": [
    "### facial landmarks number order\n",
    "\n",
    "- `mouth` = 48 to 61\n",
    "- `right eye brow` = 17 to 21\n",
    "- `left eye brow` = 22 to 27\n",
    "- `right eye` = 36 to 42\n",
    "- `left eye` = 42 to 48\n",
    "- `nose` = 27 to 35\n",
    "- `jaw` = 0 to 17"
   ]
  },
  {
   "cell_type": "code",
   "metadata": {},
   "outputs": [],
   "source": [
    "import numpy as np\n",
    "import dlib\n",
    "import cv2\n",
    "\n",
    "person = cv2.imread('images/person.jpg')\n",
    "\n",
    "predictor = dlib.shape_predictor('files/shape_predictor_68_face_landmarks.dat')\n",
    "detector = dlib.get_frontal_face_detector()"
   ]
  },
  {
   "cell_type": "markdown",
   "metadata": {},
   "outputs": [],
   "source": [
    "## detecting the bounding box"
   ]
  },
  {
   "cell_type": "code",
   "metadata": {},
   "outputs": [],
   "source": [
    "rects = detector(person, 1)\n",
    "print(rects)"
   ]
  },
  {
   "cell_type": "code",
   "metadata": {},
   "outputs": [],
   "source": [
    "result = person.copy()\n",
    "for rect in rects:\n",
    "    left, top, right, bottom = (int(rect.left()), int(rect.top()), int(rect.right()), int(rect.bottom()))\n",
    "    cv2.rectangle(result, (right, bottom), (left, top), (0, 255, 255), 1)"
   ]
  },
  {
   "cell_type": "markdown",
   "metadata": {},
   "outputs": [],
   "source": [
    "## detecting the landmarks"
   ]
  },
  {
   "cell_type": "code",
   "metadata": {},
   "outputs": [],
   "source": [
    "result = person.copy()\n",
    "for rect in rects:\n",
    "    landmarks = predictor(person, rect)\n",
    "    for i, points in enumerate(landmarks.parts()):\n",
    "        point = (points.x, points.y)\n",
    "        cv2.putText(result, str(i), point, cv2.FONT_HERSHEY_SIMPLEX, 0.3, (0, 255, 255), 1)"
   ]
  },
  {
   "cell_type": "markdown",
   "metadata": {},
   "outputs": [],
   "source": [
    "## getting the nose separately"
   ]
  },
  {
   "cell_type": "code",
   "metadata": {},
   "outputs": [],
   "source": [
    "result = person.copy()\n",
    "\n",
    "nose_points = list(range(27, 35))\n",
    "nose_coords = []\n",
    "nose_x = []\n",
    "nose_y = []\n",
    "for i, points in enumerate(landmarks.parts()):\n",
    "    if i in nose_points:\n",
    "        nose_x.append(points.x)\n",
    "        nose_y.append(points.y)\n",
    "        cv2.circle(result, (points.x, points.y), 3, (0, 255, 0), -1)\n",
    "\n",
    "nose_x = sorted(nose_x)\n",
    "left = nose_x[0]\n",
    "right = nose_x[-1]\n",
    "nose_y = sorted(nose_y)\n",
    "top = nose_y[0]\n",
    "bottom = nose_y[-1]\n",
    "\n",
    "cv2.rectangle(result, (left-10, top-10), (right+10, bottom+10), (0, 255, 255), 1)"
   ]
  },
  {
   "cell_type": "markdown",
   "metadata": {},
   "outputs": [],
   "source": [
    "## visualization"
   ]
  },
  {
   "cell_type": "code",
   "metadata": {},
   "outputs": [],
   "source": [
    "cv2.imshow('image', result)\n",
    "cv2.waitKey(0)\n",
    "cv2.destroyAllWindows()"
   ]
  }
 ]
}
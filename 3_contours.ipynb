{
 "nbformat": 4,
 "nbformat_minor": 2,
 "metadata": {
  "language_info": {
   "name": "python",
   "codemirror_mode": {
    "name": "ipython",
    "version": 3
   },
   "version": "3.6.9"
  },
  "orig_nbformat": 2,
  "file_extension": ".py",
  "mimetype": "text/x-python",
  "name": "python",
  "npconvert_exporter": "python",
  "pygments_lexer": "ipython3",
  "version": 3
 },
 "cells": [
  {
   "cell_type": "markdown",
   "metadata": {},
   "outputs": [],
   "source": [
    "# segmentation and contours"
   ]
  },
  {
   "cell_type": "code",
   "execution_count": 2,
   "metadata": {},
   "outputs": [],
   "source": [
    "import numpy as np\n",
    "import cv2\n",
    "\n",
    "shapes = cv2.imread('images/geometricShapes.png')"
   ]
  },
  {
   "cell_type": "markdown",
   "metadata": {},
   "outputs": [],
   "source": [
    "### hierarchy types\n",
    "\n",
    "- `cv2.RETR_LIST` all contours\n",
    "- `cv2.RETR_EXTERNAL` retrieves external or outer contours\n",
    "\n",
    "### approximating types\n",
    "\n",
    "- `cv2.CHAIN_APPROX_SIMPLE`\n",
    "- `cv2.CHAIN_APPROX_NONE`"
   ]
  },
  {
   "cell_type": "code",
   "execution_count": 3,
   "metadata": {},
   "outputs": [
    {
     "name": "stdout",
     "output_type": "stream",
     "text": "7\n"
    }
   ],
   "source": [
    "gray = cv2.cvtColor(shapes, cv2.COLOR_BGR2GRAY) # required\n",
    "canny = cv2.Canny(gray.copy(), 30, 170) # removing noises\n",
    "\n",
    "contours, _ = cv2.findContours(canny.copy(), cv2.RETR_EXTERNAL, cv2.CHAIN_APPROX_NONE)\n",
    "print(len(contours))"
   ]
  },
  {
   "cell_type": "markdown",
   "metadata": {},
   "outputs": [],
   "source": [
    "## sorting"
   ]
  },
  {
   "cell_type": "code",
   "metadata": {},
   "outputs": [],
   "source": [
    "contours = sorted(contours, key=cv2.contourArea, reverse=True) # by area\n",
    "# reverse=True - bigger to smaller"
   ]
  },
  {
   "cell_type": "markdown",
   "metadata": {},
   "outputs": [],
   "source": [
    "## cutting"
   ]
  },
  {
   "cell_type": "code",
   "execution_count": 10,
   "metadata": {},
   "outputs": [
    {
     "name": "stdout",
     "output_type": "stream",
     "text": "[164 358]\n[734 310]\n[27  8]\n[856   7]\n[498   7]\n[1008    0]\n[1005    0]\n"
    }
   ],
   "source": [
    "for contour in contours:\n",
    "    x, y, w, h = cv2.boundingRect(contour)\n",
    "    result = shapes[y:y + h, x:x + w]\n",
    "    cv2.imshow('image', result)\n",
    "    cv2.waitKey(0)\n",
    "cv2.destroyAllWindows()"
   ]
  },
  {
   "cell_type": "markdown",
   "metadata": {},
   "outputs": [],
   "source": [
    "## approximating"
   ]
  },
  {
   "cell_type": "code",
   "metadata": {},
   "outputs": [],
   "source": [
    "approximated_contours = []\n",
    "for contour in contours:\n",
    "    accuracy = 0.03 * cv2.arcLength(contour, True) # lower accuracy = precise approximating\n",
    "    approx = cv2.approxPolyDP(contour, accuracy, True) # True = closed\n",
    "    approximated_contours.append(approx)\n",
    "\n",
    "contours = np.asarray(approximated_contours)"
   ]
  },
  {
   "cell_type": "markdown",
   "metadata": {},
   "outputs": [],
   "source": [
    "## convex hull"
   ]
  },
  {
   "cell_type": "code",
   "metadata": {},
   "outputs": [],
   "source": [
    "# tries to find the smallest polygon that can covers the contour\n",
    "hull_contours = []\n",
    "for contour in contours:\n",
    "    hull = cv2.convexHull(contour)\n",
    "    hull_contours.append(hull)\n",
    "\n",
    "contours = np.asarray(hull_contours)"
   ]
  },
  {
   "cell_type": "markdown",
   "metadata": {},
   "outputs": [],
   "source": [
    "## drawing contours"
   ]
  },
  {
   "cell_type": "code",
   "metadata": {},
   "outputs": [],
   "source": [
    "for contour in contours:\n",
    "    result = cv2.drawContours(shapes.copy(), [contour], -1, (0, 255, 0), 3)\n",
    "    cv2.imshow('image', result)\n",
    "    cv2.waitKey(0)\n",
    "\n",
    "result = cv2.drawContours(shapes.copy(), contours, -1, (0, 255, 0), 3)\n",
    "# cv2.drawContours(image, contours, number of contours, color, 3)\n",
    "# -1 for all "
   ]
  },
  {
   "cell_type": "markdown",
   "metadata": {},
   "outputs": [],
   "source": [
    "## lines detection"
   ]
  },
  {
   "cell_type": "code",
   "metadata": {},
   "outputs": [],
   "source": [
    "lines = cv2.HoughLinesP(canny.copy(), 1, np.pi/180, 100, 1, 10)\n",
    "# cv2.cv2.HoughLinesP(image, p accuracy, o accuracy, threshold, minimum line lenght, max line gap)\n",
    "\n",
    "result = shapes.copy()\n",
    "for line in lines:\n",
    "    for x1, y1, x2, y2 in line:\n",
    "        cv2.line(result, (x1, y1), (x2, y2), (0, 255, 0), 2)"
   ]
  },
  {
   "cell_type": "markdown",
   "metadata": {},
   "outputs": [],
   "source": [
    "## circle detection"
   ]
  },
  {
   "cell_type": "code",
   "metadata": {},
   "outputs": [],
   "source": [
    "circles = cv2.HoughCircles(gray.copy(), cv2.HOUGH_GRADIENT, 1.5, 100)\n",
    "# cv2.HoughCircles(image, method, dp, min dist between centers, param1, param2, min radius, max radius)\n",
    "\n",
    "result = shapes.copy()\n",
    "for circle in circles:\n",
    "    for info in circle: # circle = [center x, center y, radius]\n",
    "        print(info)\n",
    "        cv2.circle(result,(info[0], info[1]), info[2], (0, 255, 0), 2)"
   ]
  },
  {
   "cell_type": "markdown",
   "metadata": {},
   "outputs": [],
   "source": [
    "## visualization"
   ]
  },
  {
   "cell_type": "code",
   "metadata": {},
   "outputs": [],
   "source": [
    "cv2.imshow('image', result)\n",
    "cv2.waitKey(0)\n",
    "cv2.destroyAllWindows()"
   ]
  },
  {
   "cell_type": "markdown",
   "metadata": {},
   "outputs": [],
   "source": []
  }
 ]
}
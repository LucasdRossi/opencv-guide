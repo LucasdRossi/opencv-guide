{
 "nbformat": 4,
 "nbformat_minor": 2,
 "metadata": {
  "language_info": {
   "name": "python",
   "codemirror_mode": {
    "name": "ipython",
    "version": 3
   },
   "version": "3.6.9"
  },
  "orig_nbformat": 2,
  "file_extension": ".py",
  "mimetype": "text/x-python",
  "name": "python",
  "npconvert_exporter": "python",
  "pygments_lexer": "ipython3",
  "version": 3
 },
 "cells": [
  {
   "cell_type": "markdown",
   "metadata": {},
   "outputs": [],
   "source": [
    "# HAAR cascade\n",
    "\n",
    "[opencv HAAR cascades](https://github.com/opencv/opencv/tree/master/data/haarcascades)"
   ]
  },
  {
   "cell_type": "code",
   "metadata": {},
   "outputs": [],
   "source": [
    "import numpy as np\n",
    "import cv2\n",
    "\n",
    "person = cv2.imread('images/person.jpg')"
   ]
  },
  {
   "cell_type": "code",
   "metadata": {},
   "outputs": [],
   "source": [
    "gray = cv2.cvtColor(person.copy(), cv2.COLOR_BGR2GRAY) # required\n",
    "face_classifier = cv2.CascadeClassifier('files/haarcascade_frontalface_default.xml') # loading the classifier\n",
    "\n",
    "faces = face_classifier.detectMultiScale(gray, 1.3, 5)\n",
    "# detectMultiScale(image, scale factor, min neighbors)\n",
    "print(faces)"
   ]
  },
  {
   "cell_type": "code",
   "metadata": {},
   "outputs": [],
   "source": [
    "# plotting the results\n",
    "response = person.copy()\n",
    "if len(faces) > 0:\n",
    "    for x, y, w, h in faces:\n",
    "        cv2.rectangle(response, (x, y), (x+w, y+h), (0, 255, 0), 2)"
   ]
  },
  {
   "cell_type": "code",
   "metadata": {},
   "outputs": [],
   "source": [
    "# plotting the bigger result\n",
    "response = person.copy()\n",
    "bigger = 0\n",
    "index = 0\n",
    "for i, (x, y, w, h) in enumerate(faces):\n",
    "    if w*h > bigger:\n",
    "        bigger = w*h\n",
    "        index = i\n",
    "\n",
    "x, y, w, h = faces[index]\n",
    "cv2.rectangle(response, (x, y), (x+w, y+h), (0, 255, 0), 2)"
   ]
  },
  {
   "cell_type": "markdown",
   "metadata": {},
   "outputs": [],
   "source": [
    "## visualization"
   ]
  },
  {
   "cell_type": "code",
   "metadata": {},
   "outputs": [],
   "source": [
    "cv2.imshow('image', response)\n",
    "cv2.waitKey(0)\n",
    "cv2.destroyAllWindows()"
   ]
  }
 ]
}